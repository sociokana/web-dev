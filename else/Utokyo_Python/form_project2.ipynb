{
 "cells": [
  {
   "cell_type": "code",
   "execution_count": null,
   "metadata": {},
   "outputs": [],
   "source": [
    "##================================================\n",
    "## このセルを最初に実行せよ---Run this cell first.\n",
    "##================================================\n",
    "!wget -P . https://raw.githubusercontent.com/UTokyo-IPP/annex/master/assignments/project2/test_org.json\n",
    "!wget -P . https://raw.githubusercontent.com/UTokyo-IPP/annex/master/assignments/project2/train_org.json"
   ]
  },
  {
   "cell_type": "markdown",
   "metadata": {},
   "source": [
    "# ミニプロジェクト（発展課題） / Miniproject (Advanced exercises)"
   ]
  },
  {
   "cell_type": "markdown",
   "metadata": {},
   "source": [
    "## Project2. 自分のアイディアで手法を改良しよう（発展課題）\n",
    "\n",
    "基礎課題では、6人の著者の小説からなるデータセット $D$ を学習データとして、著者が未知の小説12本を分類しました。   \n",
    "これらの小説の中には、正しく分類できたものもあれば、正しく分類できなかったものもありました。   \n",
    "\n",
    "そこで発展課題では、基礎課題で実装した手法をベースライン（基準）とし、それよりも高い精度で分類できるよう、手法を改良してください。    \n",
    "**皆さん自身で考えたアイディアを実装**し、**ベースラインの手法と皆さんの提案手法とで精度を比較評価した結果を報告**してください。  \n",
    "適宜、図や表を使って構いません。  \n",
    "また、Markdownセルを利用し、**なぜ提案手法がうまくいくのか（あるいはうまくいくと考えたのか）を分かりやすく説明し、判別に失敗した小説がある場合は、失敗した理由を議論**して下さい。\n",
    "\n",
    "なお、精度 (Accuracy) は、著者が未知の小説の総数を$N$、正しく分類できたものの数を$TP$とすると、以下の式で評価するものとします。   \n",
    "$$\\text{Accuracy} = \\frac{TP}{N}$$   \n",
    "\n",
    "以下のコードで使用する6名の著者は以下の通りです。  \n",
    "\n",
    "- 太宰治\n",
    "- 宮沢賢治\n",
    "- 夏目漱石\n",
    "- 林芙美子\n",
    "- 芥川龍之介\n",
    "- 坂口安吾\n",
    "\n",
    "<H3><font color=\"red\">提出ファイルは1 MBを超えないようにしてください。大量の中間結果を`print`で書き出すようなコードは止めてください。</font></H3>\n",
    "\n",
    "### ライセンス\n",
    "\n",
    "本課題の作品データは[青空文庫](https://www.aozora.gr.jp/index.html)のものを使用しています。   \n",
    "記して感謝の意を表します。   \n",
    "なお、ルビや入力者注、アクセント分解された欧文や編者による注記等は削除しました。   \n",
    "また、著者間で学習データの文字数が概ね同じになるよう、作品数を調整しています。\n",
    "\n",
    "クリエイティブコモンズ 表示 - 非営利 2.1 日本 (CC BY-NC 2.1 JP)の下にライセンスされています。\n",
    "詳しくは[こちら](https://www.aozora.gr.jp/guide/kijyunn.html)を参照してください。\n",
    "\n",
    "![CC-BY-NC_icon.svg](https://licensebuttons.net/l/by-nc/3.0/88x31.png)"
   ]
  },
  {
   "cell_type": "markdown",
   "metadata": {},
   "source": [
    "## Project2. Let's improve the baseline method with your own idea (Advanced exercises)\n",
    "\n",
    "In the basic exercises, you impremented a program to classify the novels written by six authors, which were extracted from the [Aozora Bunko](https://www.aozora.gr.jp/index.html), using the dataset $D$ as the training data.   \n",
    "Some of these novels could be classified correctly, while others could not.   \n",
    "\n",
    "In these advanced exercises, consider the method implemented in the basic exercises as a baseline method and improve it so that it achieves higher accuracy than the original one.   \n",
    "**Please report the results of implementing your own ideas and comparing and evaluating the accuracy of the baseline method with that of your proposed method.**.   \n",
    "\n",
    "You can use diagrams and tables to illustrate your method, as appropriate.   \n",
    "Also, using the Markdown cell, **explain clearly why the proposed method works (or you thought it would work), and if there are novels that failed to be classified, discuss the reasons of the failure.**\n",
    "\n",
    "The accuracy is evaluated by the following equation;  \n",
    "$$\\text{Accuracy} = \\frac{TP}{N},$$   \n",
    "where $N$ is the total number of novels in the test set and $TP$ is the number of noveles that are classified correctly.\n",
    "\n",
    "The list of the authors' names are as follows;   \n",
    "- 太宰治\n",
    "- 宮沢賢治\n",
    "- 夏目漱石\n",
    "- 林芙美子\n",
    "- 芥川龍之介\n",
    "- 坂口安吾\n",
    "\n",
    "<H3><font color=\"red\">The submitted file should not exceed 1 MB. Please do not submit such code that outputs a large number of intermediate results by `print` and so on. </font></H3>\n",
    "\n",
    "\n",
    "### Licenses\n",
    "\n",
    "The data for this assignment is derived from [Aozora Bunko](https://www.aozora.gr.jp/index.html).   \n",
    "We would like to express our appreciation.   \n",
    "Note that we have removed ruby characters, typists' notes, accent-decomposed European text, and notes by the editor.   \n",
    "The number of novels has been adjusted so that the number of characters in the training data is approximately the same among the authors.\n",
    "\n",
    "This dataset inherits the Creative Commons Attribution 2.1 Japan (CC BY 2.1 JP) licenses as well.\n",
    "For details, refer to [this site](https://www.aozora.gr.jp/guide/kijyunn.htm).\n",
    "\n",
    "![CC-BY-NC_icon.svg](https://licensebuttons.net/l/by-nc/3.0/88x31.png)"
   ]
  },
  {
   "cell_type": "markdown",
   "metadata": {},
   "source": [
    "## 準備：訓練データの読み込み\n",
    "\n",
    "基礎課題では、訓練データは予め重要語が抽出されていましたが、発展課題では原文のままのデータを配布します。   \n",
    "データはJSON形式です。   \n",
    "以下のコードを使って、訓練データ $D$ を辞書 `D` に読み込んでください。\n"
   ]
  },
  {
   "cell_type": "markdown",
   "metadata": {},
   "source": [
    "## Preparation: Reading the training data\n",
    "\n",
    "In the basic exercises, the important words were extracted from the training data beforehand, but in the advanced exercises, we deliver the original texts.   \n",
    "The data is in JSON format.   \n",
    "Use the following code to load the training data $D$ into the dictionary `D`."
   ]
  },
  {
   "cell_type": "code",
   "execution_count": 2,
   "metadata": {},
   "outputs": [],
   "source": [
    "### Given code:\n",
    "import json\n",
    "\n",
    "D = {}\n",
    "with open('train_org.json', 'r', encoding='utf-8') as f:\n",
    "    D = json.load(f)\n"
   ]
  },
  {
   "cell_type": "markdown",
   "metadata": {},
   "source": [
    "訓練データ `D` は辞書で、ある著者の名前を `name` とすると、`D[name]` とすることによって、その著者の小説集合をリストとして返します。ここで、著者の名前とは、冒頭で述べた6名の著者 (`太宰治`, `宮沢賢治`, `夏目漱石`, `林芙美子`, `芥川龍之介`, `坂口安吾`) のいずれかです。   \n",
    "`D[name]` にリストされている各小説は辞書であり、キーが `'title'` のときその小説の題名、キーが `'text'` のときその小説の本文を返します。   \n",
    "小説の本文は各パラグラフ（文字列）を要素とするリストで与えられます。   \n",
    "以下のコードで、6名の各著者について、最初に登録されている小説の題名と本文の最初の3行を書き出してみましょう。"
   ]
  },
  {
   "cell_type": "markdown",
   "metadata": {},
   "source": [
    "The training data `D` is a dictionary and returns a set of novels of an author as a list when it is given the name `name` of the author as in `D[name]`. Here, the name of the author is one of the six authors mentioned at the beginning (`太宰治`, `宮沢賢治`, `夏目漱石`, `林芙美子`, `芥川龍之介` and `坂口安吾`).   \n",
    "Each novel listed in `D[name]` is a dictionary and returns the title of the novel if it is given the key `'title'`, or the text of the novel if it is given the key `'text'`.   \n",
    "The text of the novel is given as a list of paragraphs (strings).   \n",
    "The following code outputs the title and the first three paragraphs of the text of the first registered novel of each of the six authors."
   ]
  },
  {
   "cell_type": "code",
   "execution_count": 3,
   "metadata": {},
   "outputs": [
    {
     "name": "stdout",
     "output_type": "stream",
     "text": [
      "name: 太宰治\n",
      "title 創作余談\n",
      "text ['創作余談、とでもいったものを、と編輯者からの手紙にはしるされて在った。それは多少、てれくさそうな語調であった。そう言われて、いよいよてれくさいのは、作者である。この作者は、未だほとんど無名にして、創作余談とでもいったものどころか、創作それ自体をさえ見失いかけ、追いかけ、思案し、背中むけ、あるいは起き直り、読書、たちまち憤激、巷を彷徨、歩きながら詩一篇などの、どうにもお話にならぬ甘ったれた文学書生の状態ゆえ、創作余談、はいそうですか、と、れいの先生らしい苦心談もっともらしく書き綴る器用の真似はできぬのである。', 'できるようにも思うのであるが、私は、わざと、できぬ、という。無理にも、そう言う。文壇常識を破らなければいけないと頑固に信じているからである。常識は、いいものである。これには従わなければいけない。けれども常識は、十年ごとに飛躍する。私は、人の世の諸現象の把握については、ヘエゲル先生を支持する。', 'ほんとうは、マルクス、エンゲルス両先生を、と言いたいところでもあろうが、いやいや、レニン先生を、と言いたいところでもあろうが、この作者、元来、言行一致ということに奇妙なほどこだわっている男で、いやいや、そう言ってもいけない、この作者、元来、非惨を愛する趣味家であって、安心立命の境地を目して、すべて崩壊の前提となし、ああ、あとの言葉は、諸兄のうち、心ある者、つづけ給え。']\n",
      "name: 宮沢賢治\n",
      "title 虔十公園林\n",
      "text ['虔十はいつも繩の帯をしめてわらって杜の中や畑の間をゆっくりあるいてゐるのでした。', '雨の中の青い藪を見てはよろこんで目をパチパチさせ青ぞらをどこまでも翔けて行く鷹を見付けてははねあがって手をたゝいてみんなに知らせました。', 'けれどもあんまり子供らが虔十をばかにして笑ふものですから虔十はだんだん笑はないふりをするやうになりました。']\n",
      "name: 夏目漱石\n",
      "title イズムの功過\n",
      "text ['大抵のイズムとか主義とかいうものは無数の事実を几帳面な男が束にして頭の抽出へ入れやすいように拵えてくれたものである。一纏めにきちりと片付いている代りには、出すのが臆劫になったり、解くのに手数がかかったりするので、いざという場合には間に合わない事が多い。大抵のイズムはこの点において、実生活上の行為を直接に支配するために作られたる指南車というよりは、吾人の知識欲を充たすための統一函である。文章ではなくって字引である。', '同時に多くのイズムは、零砕の類例が、比較的緻密な頭脳に濾過されて凝結した時に取る一種の形である。形といわんよりはむしろ輪廓である。中味のないものである。中味を棄てて輪廓だけを畳み込むのは、天保銭を脊負う代りに紙幣を懐にすると同じく小さな人間として軽便だからである。', 'この意味においてイズムは会社の決算報告に比較すべきものである。更に生徒の学年成績に匹敵すべきものである。僅一行の数字の裏面に、僅か二位の得点の背景に殆どありのままには繰返しがたき、多くの時と事と人間と、その人間の努力と悲喜と成敗とが潜んでいる。']\n",
      "name: 林芙美子\n",
      "title 婚期\n",
      "text ['九月にはいつて急に末の妹の結婚がきまつた。妹と結婚をする相手は長い間上海の銀行に勤めてゐたひとで、妹とは十二三も年齡の違ふひとであつたが、何故だか末の妹の杉枝の方がひどくこのひとを好きになつてしまつて、急に自分がゆきたいと云ひ出した。', '始めは長女の登美子にどうだらうかと仲人の與田さんが話を持つて來たのであつたが、登美子は今度も氣がすすまないと云つて、與田さんの話をそのままにして過してゐた。與田さんの方では、登美子の寫眞も相手方へ見せての上のことなので、何とかして話をまとめたいと熱心であつたが、登美子はもう見合ひはこりごりだと思つてゐた。', '與田さんは登美子たちの女學校の先生で、三人姉妹とも優秀な成績で卒業してゐる上に、轉任當時、暫く登美子の家の借家に住んでゐた關係で、何時も何かあると、この三人姉妹のところへ遊びに來てゐた。與田さんもまだ若くて、津田英學塾を出ると、すぐ中國のこのＳ町の女學校に轉任をして來たのだけれども、すつかり海邊のこの町が氣に入つてしまつて、何時の間にか六年をこの町で過してゐた。與田さんの御主人は海軍の將校の方で、事變以來、二度ほど内地へ戻つて來られたきりで、ずつと與田さんはお留守をまもつて御主人のお母さんと女中さんとの三人暮しである。英語も達者だつたけれども、佛蘭西語もうまくて、時々ノアイユ夫人の詩なんかを譯して生徒に讀んできかせる粹なところもある先生であつた。生徒や先生達のうけもよかつたし、與田さんは年の若い割合に、お仲人も好きで、お母さんといつしよになつて、卒業してゆく生徒の嫁入口をあれこれと心配するのが評判であつた。與田さんは明朗なものが好きで、音樂にしてもバツハのものが好きだつたり、小説は漱石一點ばりで、何事にも明るい蔭のない少女のやうな呑氣な性格の先生であつた。']\n",
      "name: 芥川龍之介\n",
      "title 或阿呆の一生\n",
      "text ['僕はこの原稿を発表する可否は勿論、発表する時や機関も君に一任したいと思つてゐる。', '君はこの原稿の中に出て来る大抵の人物を知つてゐるだらう。しかし僕は発表するとしても、インデキスをつけずに貰ひたいと思つてゐる。', '僕は今最も不幸な幸福の中に暮らしてゐる。しかし不思議にも後悔してゐない。唯僕の如き悪夫、悪子、悪親を持つたものたちを如何にも気の毒に感じてゐる。ではさやうなら。僕はこの原稿の中では少くとも意識的には自己弁護をしなかつたつもりだ。']\n",
      "name: 坂口安吾\n",
      "title 新作いろは加留多\n",
      "text ['いろは加留多には「ン」がない。多分ンで始まる言葉がないからだらう。ところが、四五年前、ンで始まる金言を発見したから、ついでに「いろは加留多」を作らうかと思つた。そのうちに忘れてしまつたけれども、又、正月が近づいたから、思ひだした。ンの金言を発見した次第は、次のやうなものである。', '北原武夫が都新聞の文芸記者をやつてゐたときの話である。都の匿名欄には僕も時々書いてゐたが、題と匿名は編輯者に委せて、僕がこしらへたことはなかつた。', '匿名も同じものを続けてゐると、忽ち看破られる。そのうへ知らない読者には、匿名だけが一本立で歩くやうになり、書いてる本人は、ねざめのいゝ話ではない。それで、ひところ、編輯者の方で、しよつちう匿名を変へてゐたこともある。']\n"
     ]
    }
   ],
   "source": [
    "### Given code:\n",
    "\n",
    "for name in D:\n",
    "    print('name:', name)\n",
    "    print('title', D[name][0]['title'])\n",
    "    print('text', D[name][0]['text'][:3])\n"
   ]
  },
  {
   "cell_type": "markdown",
   "metadata": {},
   "source": [
    "## 準備：評価データの読み込み\n",
    "\n",
    "評価データもJSON形式です。\n",
    "以下のコードを使って、評価データ $A$ をリスト `A` に読み込んでください。   \n"
   ]
  },
  {
   "cell_type": "markdown",
   "metadata": {},
   "source": [
    "## Preparation: Reading the test data¶\n",
    "\n",
    "The test data is also in JSON format.   \n",
    "Use the following code to load the test data $A$ into the list `A`.   "
   ]
  },
  {
   "cell_type": "code",
   "execution_count": 4,
   "metadata": {},
   "outputs": [],
   "source": [
    "### Given code:\n",
    "import json\n",
    "\n",
    "A = {}\n",
    "with open('test_org.json', 'r', encoding='utf-8') as f:\n",
    "    A = json.load(f)\n"
   ]
  },
  {
   "cell_type": "markdown",
   "metadata": {},
   "source": [
    "リスト `A` には合計120作品の小説が納められています。  \n",
    "各小説は辞書であり、キーが `title` のときその小説の題名、キーが `text`のときその小説の本文を返します。   \n",
    "小説の本文は各パラグラフ（文字列）を要素とするリストで与えられます。\n",
    "また、キーを `true_author` とすると、その小説の正解の著者名を返します。この著者名をなるべく精度よく当てることが課題です。   \n",
    "以下のコードで `A` に登録されている `0` 番目の小説の題名と本文の最初の3行、および正解の著者名を書き出してみましょう。"
   ]
  },
  {
   "cell_type": "markdown",
   "metadata": {},
   "source": [
    "The list `A` contains a total of 120 novels.  \n",
    "Each novel is a dictionary and returns the title of the novel if it is given the key `'title'`, or the text of the novel if it is given the key `'text'`.    \n",
    "The text of the novel is given as a list of paragraphs (strings).\n",
    "If it is given the key `'true_author'`, the hidden true author name of the novel will be returned. The challenge is to guess the name of this author as accurately as possible.   \n",
    "The following code outputs the title, the first three paragraphs of the text, and the true author name of the `0`-th novel registered in `A`."
   ]
  },
  {
   "cell_type": "code",
   "execution_count": 5,
   "metadata": {},
   "outputs": [
    {
     "name": "stdout",
     "output_type": "stream",
     "text": [
      "120\n",
      "title: 老ハイデルベルヒ\n",
      "text: ['八年まえの事でありました。当時、私は極めて懶惰な帝国大学生でありました。一夏を、東海道三島の宿で過したことがあります。五十円を故郷の姉から、これが最後だと言って、やっと送って戴き、私は学生鞄に着更の浴衣やらシャツやらを詰め込み、それを持ってふらと、下宿を立ち出で、そのまま汽車に乗りこめばよかったものを、方角を間違え、馴染みのおでんやにとびこみました。其処には友達が三人来合わせて居ました。やあ、やあ、めかして何処へ行くのだと、既に酔っぱらっている友人達は、私をからかいました。私は気弱く狼狽して、いや何処ということもないんだけど、君たちも、行かないかね、と心にも無い勧誘がふいと口から辷り出て、それからは騎虎の勢で、僕にね、五十円あるんだ、故郷の姉から貰ったのさ、これから、みんなで旅行に出ようよ、なに、仕度なんか要らない、そのままでいいじゃないか、行こう、行こう、とやけくそになり、しぶる友人達を引張るようにして連れ出してしまいました。あとは、どうなることか、私自身にさえわかりませんでした。あの頃は私も、随分、呑気なところのある子供でした。世の中も亦、私達を呑気に甘えさせてくれていました。私は、三島に行って小説を書こうと思って居たのでした。三島には高部佐吉さんという、私より二つ年下の青年が酒屋を開いて居たのです。佐吉さんの兄さんは沼津で大きい造酒屋を営み、佐吉さんは其の家の末っ子で、私とふとした事から知合いになり、私も同様に末弟であるし、また同様に早くから父に死なれている身の上なので、佐吉さんとは、何かと話が合うのでした。佐吉さんの兄さんとは私も逢ったことがあり、なかなか太っ腹の佳い方だし、佐吉さんは家中の愛を独占して居るくせに、それでも何かと不平が多い様で、家を飛出し、東京の私の下宿へ、にこにこ笑ってやって来た事もありました。さまざま駄々をこねて居たようですが、どうにか落ち附き、三島の町はずれに小ぢんまりした家を持ち、兄さんの家の酒樽を店に並べ、酒の小売を始めたのです。二十歳の妹さんと二人で住んで居ました。私は、其の家へ行くつもりであったのです。佐吉さんから、手紙で様子を聞いているだけで、まだ其の家を見た事も無かったので、行ってみて具合が悪いようだったらすぐ帰ろう、具合がいいようだったら一夏置いて貰って、小説を一篇書こう、そう思って居たのでありましたが、心ならずも三人の友人を招待してしまったので、私は、とにかく三島迄の切符を四枚買い、自信あり気に友人達を汽車に乗せたものの、さてこんなに大勢で佐吉さんの小さい酒店に御厄介になっていいものかどうか、汽車の進むにつれて私の不安は増大し、そのうちに日も暮れて、三島駅近くなる頃には、あまりの心細さに全身こまかにふるえ始め、幾度となく涙ぐみました。私は自身のこの不安を、友人に知らせたくなかったので、懸命に佐吉さんの人柄の良さを語り、三島に着いたらしめたものだ、三島に着いたらしめたものだと、自分でもイヤになる程、その間の抜けた無意味な言葉を幾度も幾度も繰返して言うのでした。あらかじめ佐吉さんに電報を打って置いたのですが、はたして三島の駅に迎えに来てくれて居るかどうか、若し迎えに来て居てくれなかったら、私は此の三人の友人を抱えて、一体どうしたらいいでしょう。私の面目は、まるつぶれになるのではないでしょうか。三島駅に降りて改札口を出ると、構内はがらんとして誰も居りませぬ。ああ、やはり駄目だ。私は泣きべそかきました。駅は田畑の真中に在って、三島の町の灯さえ見えず、どちらを見廻しても真暗闇、稲田を撫でる風の音がさやさや聞え、蛙の声も胸にしみて、私は全く途方にくれました。佐吉さんでも居なければ、私にはどうにも始末がつかなかったのです。汽車賃や何かで、姉から貰った五十円も、そろそろ減って居りますし、友人達には勿論持合せのある筈は無し、私がそれを承知で、おでんやからそのまま引張り出して来たのだし、そうして友人達は私を十分に信用している様子なのだから、いきおい私も自信ある態度を装わねばならず、なかなか苦しい立場でした。無理に笑って私は、大声で言いました。', '「佐吉さん、呑気だなあ。時間を間違えたんだよ。歩くよりほかは無い。この駅にはもとからバスも何も無いのだ。」と知ったかぶりして鞄を持直し、さっさと歩き出したら、其のとき、闇のなかから、ぽっかり黄色いヘッドライトが浮び、ゆらゆらこちらへ泳いで来ます。', '「あ、バスだ。今は、バスもあるのか。」と私はてれ隠しに呟き、「おい、バスが来たようだ。あれに乗ろう！」と勇んで友人達に号令し、みな道端に寄って並び立ち、速力の遅いバスを待って居ました。やがてバスは駅前の広場に止り、ぞろぞろ人が降りて、と見ると佐吉さんが白浴衣着てすまして降りました。私は、唸るほどほっとしました。']\n",
      "Correct answer label: 太宰治\n"
     ]
    }
   ],
   "source": [
    "### Given code:\n",
    "\n",
    "print(len(A))\n",
    "print('title:', A[0]['title'])\n",
    "print('text:', A[0]['text'][:3])\n",
    "print('Correct answer label:', A[0]['true_author'])\n"
   ]
  },
  {
   "cell_type": "markdown",
   "metadata": {},
   "source": [
    "## 皆さんのコードおよび解説\n",
    "\n",
    "以下で皆さんのコードやその解説、結果の評価および議論を行ってください。   \n",
    "- この 'project2.ipynb' は自動採点されません．答案検査システムもありません。教員やTAが一つずつ見て採点します。\n",
    "- 解説や議論はMarkdownセルに、コードはCodeセルに記入してください。\n",
    "- 提出されたipynbファイルは教員のPCで実行したうえで評価します。実行に必要な追加パッケージがあれば指定するなどして、実行できるファイルを提出してください。\n",
    "- Codeセル、Markdownセルは必要に応じて増やして構いません"
   ]
  },
  {
   "cell_type": "markdown",
   "metadata": {},
   "source": [
    "## Describe your code and explain it\n",
    "Describe your code, explanation and discussion below.\n",
    "- This notebook 'project2.ipynb' will not be automatically graded at all. No automatic checking for it is provided. The faculty members and TAs will read and execute this notebook and give a grade manually.\n",
    "- Fill the explanation and discussion of your method in Markdown cells. The code should be written in Code cells.\n",
    "- The submitted notebook will be executed on the faculty member's PC before grading. Please submit an executable file, specifying all additional packages required for execution if any.\n",
    "- You can add Code cells and Markdown cells as needed."
   ]
  },
  {
   "cell_type": "markdown",
   "metadata": {},
   "source": [
    "# 提案手法の概要 / Outline of your proposed method\n",
    "\n",
    "...\n",
    "\n",
    "\n",
    "# 着想に至った経緯 / Background to the idea\n",
    "\n",
    "...\n",
    "\n",
    "# 処理の流れ / Processing flow\n",
    "\n",
    "1. First step...\n",
    "1. Second step...\n",
    "1. Third step...\n"
   ]
  },
  {
   "cell_type": "code",
   "execution_count": null,
   "metadata": {},
   "outputs": [],
   "source": [
    "# 提案手法のコード / The code of your proposed method\n",
    "# 注意: 適宜、コメント行として解説を書き込み、わかりやすいコードとなるように務めてください。\n",
    "# Note: Write commentaries as comment lines where appropriate and try to make the code easy to understand.\n",
    "..."
   ]
  },
  {
   "cell_type": "markdown",
   "metadata": {},
   "source": [
    "# 評価 / Evaluation\n",
    "\n",
    "... "
   ]
  },
  {
   "cell_type": "code",
   "execution_count": null,
   "metadata": {},
   "outputs": [],
   "source": [
    "# 提案手法の評価に関するコード / The code for evaluation of your method\n",
    "..."
   ]
  },
  {
   "cell_type": "markdown",
   "metadata": {},
   "source": [
    "# 議論と結論 / Discussion and conclusion\n",
    "\n",
    "..."
   ]
  }
 ],
 "metadata": {
  "judge_submission": {
   "exercises": {
    "project2": "3e5524348f1317c298a1040f5227f3b6beae361f"
   },
   "extraction": false
  },
  "kernelspec": {
   "display_name": "Python 3",
   "language": "python",
   "name": "python3"
  },
  "language_info": {
   "name": ""
  }
 },
 "nbformat": 4,
 "nbformat_minor": 4
}
