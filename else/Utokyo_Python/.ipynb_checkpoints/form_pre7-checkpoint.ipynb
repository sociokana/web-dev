{
 "cells": [
  {
   "cell_type": "code",
   "execution_count": 1,
   "metadata": {
    "id": "_hg2yFmnvHVI"
   },
   "outputs": [
    {
     "name": "stdout",
     "output_type": "stream",
     "text": [
      "--2021-05-30 15:04:10--  https://raw.githubusercontent.com/UTokyo-IPP/annex/master/assignments/pre7/iris.csv\n",
      "raw.githubusercontent.com (raw.githubusercontent.com) をDNSに問いあわせています... 185.199.109.133, 185.199.110.133, 185.199.111.133, ...\n",
      "raw.githubusercontent.com (raw.githubusercontent.com)|185.199.109.133|:443 に接続しています... 接続しました。\n",
      "HTTP による接続要求を送信しました、応答を待っています... 200 OK\n",
      "長さ: 3716 (3.6K) [text/plain]\n",
      "`./iris.csv' に保存中\n",
      "\n",
      "iris.csv            100%[===================>]   3.63K  --.-KB/s 時間 0s       \n",
      "\n",
      "2021-05-30 15:04:10 (16.7 MB/s) - `./iris.csv' へ保存完了 [3716/3716]\n",
      "\n",
      "--2021-05-30 15:04:10--  https://raw.githubusercontent.com/UTokyo-IPP/annex/master/assignments/pre7/titanic.csv\n",
      "raw.githubusercontent.com (raw.githubusercontent.com) をDNSに問いあわせています... 185.199.109.133, 185.199.110.133, 185.199.111.133, ...\n",
      "raw.githubusercontent.com (raw.githubusercontent.com)|185.199.109.133|:443 に接続しています... 接続しました。\n",
      "HTTP による接続要求を送信しました、応答を待っています... 200 OK\n",
      "長さ: 44225 (43K) [text/plain]\n",
      "`./titanic.csv' に保存中\n",
      "\n",
      "titanic.csv         100%[===================>]  43.19K  --.-KB/s 時間 0.006s   \n",
      "\n",
      "2021-05-30 15:04:10 (6.95 MB/s) - `./titanic.csv' へ保存完了 [44225/44225]\n",
      "\n"
     ]
    }
   ],
   "source": [
    "##================================================\n",
    "## このセルを最初に実行せよ---Run this cell first.\n",
    "##================================================\n",
    "!wget -P . https://raw.githubusercontent.com/UTokyo-IPP/annex/master/assignments/pre7/iris.csv\n",
    "!wget -P . https://raw.githubusercontent.com/UTokyo-IPP/annex/master/assignments/pre7/titanic.csv"
   ]
  },
  {
   "cell_type": "markdown",
   "metadata": {
    "id": "47QY9cg_vHVK"
   },
   "source": [
    "# 第7回予習課題\n",
    "\n",
    "[English version](https://colab.research.google.com/drive/1Ve9MH7lzwmKHFT6u0M0nCvzD-TRMvxah)"
   ]
  },
  {
   "cell_type": "markdown",
   "metadata": {
    "id": "R0iQtUm-vHVL"
   },
   "source": [
    "## Pre7-1. pandasライブラリ\n",
    "\n",
    "CSVファイル `'iris.csv'` を `pandas` モジュールのデータフレームオブジェクト (`pandas.DataFrame`) としてロードし、`'species'` 列の値が引数 `species` (値は `'setosa'`, `'virginica'`, `'versicolor'` のいずれか) の値と一致、かつ`'sepal_length'` 列の値が引数`sepal_len`の値以上である行を抽出した上で、それらの行から `'sepal_width'` 列の最小値を返す以下の `min_sepal_width` 関数を完成させてください。データフレーム `df`の列の最小値は`DataFrame` オブジェクトの`min()`メソッドを使って`df['列名'].min()`のように計算できます。"
   ]
  },
  {
   "cell_type": "code",
   "execution_count": null,
   "metadata": {
    "id": "k_tuJc_VvHVM"
   },
   "outputs": [],
   "source": [
    "##########################################################\n",
    "##  <[ pre7-1-min_sepal_width ]> 解答セル (Answer cell)\n",
    "##  このコメントの書き変えを禁ず (Never edit this comment)\n",
    "##########################################################\n",
    "\n",
    "QUESTION_EXISTS = False # 質問がある場合は True に変えて，このセル内のコメントとして質問を記述してください\n",
    "                        # Change to True if you have questions, and describe them as comments in this cell\n",
    "\n",
    "import pandas as pd\n",
    "\n",
    "def min_sepal_width(species, sepal_len):\n",
    "    df = pd.read_csv('iris.csv')\n",
    "    print(df['species'] == species)\n",
    "\n",
    "min_sepal_width('setosa', 5)\n",
    "\n"
   ]
  },
  {
   "cell_type": "markdown",
   "metadata": {
    "id": "zvMEvQaAvHVO"
   },
   "source": [
    "提出前に以下のテストセルを実行し、 `True` のみが出力されることを確認してください。"
   ]
  },
  {
   "cell_type": "code",
   "execution_count": null,
   "metadata": {
    "id": "mmLpdDU7vHVO"
   },
   "outputs": [],
   "source": [
    "print(min_sepal_width('setosa', 5)==3.0)\n",
    "print(min_sepal_width('versicolor', 5)==2.0)\n",
    "print(min_sepal_width('virginica', 5)==2.2)\n",
    "print(min_sepal_width('setosa', 5.8)==4.0)\n",
    "print(min_sepal_width('versicolor', 5.8)==2.2)\n",
    "print(min_sepal_width('virginica', 5.8)==2.2)"
   ]
  },
  {
   "cell_type": "markdown",
   "metadata": {
    "id": "TkPCuKoSvHVP"
   },
   "source": [
    "## Pre7-2. scikit-learnライブラリ\n",
    "\n",
    "タイタニック号の乗船者のデータを含むCSVファイル `'titanic.csv'` には以下のように乗船者の特徴量とその乗船者が生存したかどうかの情報が含まれています。"
   ]
  },
  {
   "cell_type": "code",
   "execution_count": null,
   "metadata": {
    "id": "lt5bIxz2vHVP"
   },
   "outputs": [],
   "source": [
    "# タイタニックデータセット\n",
    "import pandas as pd\n",
    "pd.read_csv('titanic.csv')[['Pclass','Fare','Age','Survived']].head()"
   ]
  },
  {
   "cell_type": "markdown",
   "metadata": {
    "id": "kJsVpGOKvHVQ"
   },
   "source": [
    "以下の `predict_titanic` 関数を完成させてください。\n",
    "\n",
    "1. CSVファイル`'titanic.csv'`を`pandas` モジュールのデータフレームオブジェクトとしてロード\n",
    "2. 乗船者の3つの特徴量 （`Pclass`（客室の等級） と `Fare`（運賃）と`Age`（年齢）） からその乗船者が生存したか（ラベル `Survived` ：生存は`1`、非生存は`0`）を予測するモデルをロジスティック回帰を用いて学習し、その予測精度 （`accuracy_score`） を返す\n",
    "\n",
    "`predict_titanic` 関数は `train_test_split` でデータを分割する際の `test_size` と `random_state` の値をそれぞれ `tsize` と `rstate` 引数で受け取ります。また、`train_test_split` では `stratify` にラベルデータを指定してください。"
   ]
  },
  {
   "cell_type": "code",
   "execution_count": null,
   "metadata": {
    "id": "XZgcepDhvHVQ"
   },
   "outputs": [],
   "source": [
    "##########################################################\n",
    "##  <[ pre7-2-predict_titanic ]> 解答セル (Answer cell)\n",
    "##  このコメントの書き変えを禁ず (Never edit this comment)\n",
    "##########################################################\n",
    "\n",
    "QUESTION_EXISTS = False # 質問がある場合は True に変えて，このセル内のコメントとして質問を記述してください\n",
    "                        # Change to True if you have questions, and describe them as comments in this cell\n",
    "\n",
    "import pandas as pd\n",
    "from sklearn.linear_model import LogisticRegression\n",
    "from sklearn.model_selection import train_test_split\n",
    "from sklearn.metrics import accuracy_score\n",
    "\n",
    "def predict_titanic(tsize, rstate):    \n",
    "    df = pd.read_csv(...)\n",
    "    X = ...\n",
    "    y = ...\n",
    "    X_train, X_test, y_train, y_test = train_test_split(..., ..., test_size=..., random_state=..., stratify=...)\n",
    "    ...\n",
    "    \n",
    "    return ..."
   ]
  },
  {
   "cell_type": "markdown",
   "metadata": {
    "id": "4k9E37bHvHVR"
   },
   "source": [
    "提出前に以下のテストセルを実行し、 `True` のみが出力されることを確認してください。"
   ]
  },
  {
   "cell_type": "code",
   "execution_count": null,
   "metadata": {
    "id": "mRiTu6UUvHVR"
   },
   "outputs": [],
   "source": [
    "print(int(predict_titanic(0.3, 10)*100)==73)\n",
    "print(int(predict_titanic(0.2, 10)*100)==71)\n",
    "print(int(predict_titanic(0.3, 0)*100)==70)\n",
    "print(int(predict_titanic(0.2, 0)*100)==69)"
   ]
  }
 ],
 "metadata": {
  "colab": {
   "name": "form_pre7.ipynb의 사본",
   "provenance": [
    {
     "file_id": "187EcK37vbS03543Hdk_p58xoBgglNiHT",
     "timestamp": 1622268479061
    }
   ]
  },
  "judge_submission": {
   "exercises": {
    "pre7-1-min_sepal_width": "7274156d56dcc148b81a7b8f1712b28eb203a8ba",
    "pre7-2-predict_titanic": "c2064eecd1185c5f8b05b809af81a55271438354"
   },
   "extraction": true
  },
  "kernelspec": {
   "display_name": "Python 3",
   "language": "python",
   "name": "python3"
  },
  "language_info": {
   "codemirror_mode": {
    "name": "ipython",
    "version": 3
   },
   "file_extension": ".py",
   "mimetype": "text/x-python",
   "name": "python",
   "nbconvert_exporter": "python",
   "pygments_lexer": "ipython3",
   "version": "3.7.4"
  }
 },
 "nbformat": 4,
 "nbformat_minor": 1
}
